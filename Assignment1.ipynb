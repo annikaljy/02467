Part 1: Web-scraping
Exercise: Web-scraping the list of participants to the International Conference in Computational Social Science


