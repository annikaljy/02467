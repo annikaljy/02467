{
 "cells": [
  {
   "cell_type": "markdown",
   "metadata": {},
   "source": [
    "# Assigment 1\n",
    "### 02467 Computational Social Science Group 6"
   ]
  },
  {
   "cell_type": "markdown",
   "metadata": {},
   "source": [
    "## Part 1: Web-scraping\n",
    "### _Exercise: Web-scraping the list of participants to the International Conference in Computational Social Science_"
   ]
  },
  {
   "cell_type": "code",
   "execution_count": null,
   "metadata": {},
   "outputs": [],
   "source": [
    "#code for part 1"
   ]
  },
  {
   "cell_type": "code",
   "execution_count": null,
   "metadata": {},
   "outputs": [],
   "source": [
       "# Week 1 - Web Scraping Q1",
       "",
       "from google.colab import drive",
       "import requests",
       "from bs4 import BeautifulSoup",
       "import re",
       "",
       "# Mount Google Drive",
       "drive.mount('/content/drive')",
       "",
       "def clean_name(name):",
       "    # Clean name - remove special characters and unnecessary whitespace",
       "    name = re.sub(r'[,\\n\\t\\r]', '', name)",
       "    name = re.sub(r'\\s+', ' ', name)",
       "    name = name.strip()",
       "",
       "    # Remove <u> tags",
       "    name = re.sub(r'</?u>', '', name)",
       "",
       "    # Exclude names that are too short or contain digits",
       "    if len(name) < 2 or bool(re.search(r'\\d', name)):",
       "        return None",
       "",
       "    return name"
   ]
  }
  {
   "cell_type": "markdown",
   "metadata": {},
   "source": [
    "### _How many unique researchers do you get?_\n",
    "#### We got 1484 unique researchers for our answer."
   ]
  },
  {
   "cell_type": "markdown",
   "metadata": {},
   "source": [
    "### _Explain the process you followed to web-scrape the page. Which choices did you make to accurately retreive as many names as possible? Which strategies did you use to assess the quality of your final list? Explain your reasoning and your choices (answer in max 150 words)._\n",
    "#### We first cleaned the names by removing any special character and/or unnecessary white spaces and commas, and excluded names that were too short or contained numbers. We then removed the word \"Chair\" from the session chairs whose names were saved as \"Chair: (name)\". Lastly, we added these cleaned names into a list. Using the list, we retrieved the information needed using BeautifulSoup. We then sorted the list by the names to get our final answer."
   ]
  },
  {
   "cell_type": "markdown",
   "metadata": {},
   "source": [
    "## Part 2: Ready Made vs Custom Made Data\n",
    "\n",
    "### Centola\n",
    "#### Pros:\n",
    "#### - Flexibility, data collection in real time can be modified\n",
    "#### - Custom made data can be designed to address specific questions\n",
    "#### Cons:\n",
    "#### - Social network is something complex, researchers might accidentally introduce bias\n",
    "#### - Might not fully represent real world conditions\n",
    "\n",
    "\n",
    "### Nicolaide\n",
    "#### Pros:\n",
    "#### - Saves time and cost\n",
    "#### - Larger sample size\n",
    "#### Cons:\n",
    "#### - Quality of data might not be the best\n",
    "#### - Researchers do not have control over how the data was made\n",
    "\n",
    "### _How do you think these differences can influence the interpretation of the results in each study?_\n",
    "#### Centola allows for controlled experiments with specific manipulations while Nicolaides provide a real world view. However, Centola’s study might not be generalisable to the general population, while Nicolaide’s study may have causal correlations and uncertainty."
   ]
  },
  {
   "cell_type": "markdown",
   "metadata": {},
   "source": [
    "## Part 3: Gathering Research Articles using the OpenAlex API"
   ]
  },
  {
   "cell_type": "code",
   "execution_count": null,
   "metadata": {},
   "outputs": [],
   "source": [
    "import requests\n",
    "import pandas as pd\n",
    "from joblib import Parallel, delayed\n",
    "\n",
    "df = pd.read_csv('file02.csv')\n",
    "base_url = \"https://api.openalex.org/\"\n",
    "papers = []\n",
    "abstracts = []\n",
    "\n",
    "socialscience = {\n",
    "    \"Sociology\": \"https://openalex.org/C144024400\",\n",
    "    \"Psychology\": \"https://openalex.org/C15744967\",\n",
    "    \"Economics\": \"https://openalex.org/C162324750\",\n",
    "    \"Political Science\": \"https://openalex.org/C17744445\"\n",
    "}\n",
    "\n",
    "quantitative = {\n",
    "    \"Mathematics\": \"https://openalex.org/C33923547\",\n",
    "    \"Physics\": \"https://openalex.org/C121332964\",\n",
    "    \"Computer Science\": \"https://openalex.org/C41008148\"\n",
    "}\n",
    "\n",
    "def getwork(works_api_url, per_page=200):\n",
    "    works = []\n",
    "    cursor = \"*\"  # initial cursor\n",
    "    while True:\n",
    "        url = f\"{works_api_url}&per-page={per_page}&cursor={cursor}\"\n",
    "        response = requests.get(url)\n",
    "        if response.status_code != 200: break\n",
    "        \n",
    "        data = response.json()\n",
    "        works.extend(data.get('results', []))\n",
    "        \n",
    "        # next cursor for pagination\n",
    "        next_cursor = data.get('meta', {}).get('next_cursor')\n",
    "        if not next_cursor: break\n",
    "        cursor = next_cursor  \n",
    "    return works\n",
    "\n",
    "def filtering(works):\n",
    "    filtered = []\n",
    "    for work in works:\n",
    "        if work.get('cited_by_count', 0) <= 10: continue  #more than 10 citations\n",
    "        if len(work.get('authorships', [])) >= 10: continue #fewer than 10 authors\n",
    "        \n",
    "        concept_ids = [concept.get('id') for concept in work.get('concepts', [])]\n",
    "        is_SS = any(concept in socialscience.values() for concept in concept_ids)\n",
    "        is_quant = any(concept in quantitative.values() for concept in concept_ids)\n",
    "\n",
    "        if is_SS and is_quant: #works relevant to Computational Social Science  AND intersecting with a quantitative discipline\n",
    "            filtered.append(work)\n",
    "    return filtered\n",
    "\n",
    "def filtering2(id, worksurl, count): # Only if the author has between 5 and 5000 works\n",
    "    if 5 <= count <= 5000:\n",
    "        works = getwork(worksurl)\n",
    "        filtered_works = filtering(works)\n",
    "        return filtered_works\n",
    "    return []\n",
    "\n",
    "def extraction(work):\n",
    "    return {\n",
    "        'id': work.get('id'),\n",
    "        'publication_year': work.get('publication_year'),\n",
    "        'cited_by_count': work.get('cited_by_count'),\n",
    "        'author_ids': [author.get('author', {}).get('id') for author in work.get('authorships', [])],\n",
    "        'title': work.get('title'),\n",
    "        'abstract_inverted_index': work.get('abstract_inverted_index'),\n",
    "        'referenced_works': work.get('referenced_works', []), \n",
    "        'cited_by_api_url': work.get('cited_by_api_url'),\n",
    "        'related_works': work.get('related_works', []) \n",
    "    }\n",
    "\n",
    "# parallelize fetching and filtering works using joblib\n",
    "allfiltered = Parallel(n_jobs=-1)(\n",
    "    delayed(filtering2)(row['OpenAlex ID'], row['Works API URL'], row['Works Count'])\n",
    "    for _, row in df.iterrows()\n",
    ")\n",
    "\n",
    "for all in allfiltered:\n",
    "    for work in all:\n",
    "        details = extraction(work)\n",
    "    \n",
    "        papers.append({\n",
    "            'id': details['id'],\n",
    "            'publication_year': details['publication_year'],\n",
    "            'cited_by_count': details['cited_by_count'],\n",
    "            'author_ids': details['author_ids'],\n",
    "            'referenced_works': details['referenced_works'],\n",
    "            'cited_by_api_url': details['cited_by_api_url'],\n",
    "            'related_works': details['related_works']\n",
    "        })\n",
    "        \n",
    "        abstracts.append({\n",
    "            'id': details['id'],\n",
    "            'title': details['title'],\n",
    "            'abstract_inverted_index': details['abstract_inverted_index']\n",
    "        })\n",
    "\n",
    "papers_df = pd.DataFrame(papers)\n",
    "abstracts_df = pd.DataFrame(abstracts)\n",
    "\n",
    "papers_df.to_csv('papers.csv', index=False)\n",
    "abstracts_df.to_csv('abstracts.csv', index=False)\n",
    "print(\"Data saved.\")"
   ]
  },
  {
   "cell_type": "markdown",
   "metadata": {},
   "source": [
    "### Data Overview and Reflection questions:\n",
    "\n",
    "### _Dataset summary. How many works are listed in your IC2S2 papers dataframe? How many unique researchers have co-authored these works?_\n",
    "#### Number of works: 11230\n",
    "#### Number of unique researchers: 15199\n",
    "\n",
    "### _Efficiency in code. Describe the strategies you implemented to make your code more efficient. How did your approach affect your code's execution time?_\n",
    "#### As suggested, I used joblib's parallel function to handle multiple requests. I also implemented the filters required (work count between 5-5000, works with more than 10 citations, works authored by fewer than 10 individuals and works related to computational social science). This allowed the code to be executed at a faster rate.\n",
    "\n",
    "### _Filtering Criteria and Dataset Relevance Reflect on the rationale behind setting specific thresholds. How do these filtering criteria contribute to the relevance of the dataset you compiled?_\n",
    "#### Work count filter: >5 work count allows us to focus on established authors, while <5000 work count removes authors who have too many work that could otherwise produce unwanted \"noise\" \n",
    "#### More than 10 citations: citations allow us to judge the influence of a work, and this filter will allow us to get datasets that has some sort of influence in the academic field\n",
    "#### Less than 10 authors per work: <10 authors would suggest that the work was collaborative and focused, as too many authors may cause a paper to have too many ideas and may not reflect clear insights\n",
    "#### Relevance to Computational Social Science: as the course is related to computational social science, it is important that the works we find are related to it"
   ]
  },
  {
   "cell_type": "markdown",
   "metadata": {},
   "source": [
    "### _Do you believe any aspects of Computational Social Science research might be underrepresented or overrepresented as a result of these choices?_\n",
    "#### Yes, I believe that there may be some sort of underrepresentation due to such filters.\n",
    "#### Firstly, there may be newly published work that currently have <10 citations but is still highly relevant to the field. The filter would then exclude such works which may sometimes be highly niche that results in the lower citation count. Secondly, filtering of <10 authors could potentially exclude works that were done by a large team. It could have been a complex topic that required a large team to collaborate on, which would still be relevant to the field but are excluded due to such filters."
   ]
  }
 ],
 "metadata": {
  "language_info": {
   "name": "python"
  }
 },
 "nbformat": 4,
 "nbformat_minor": 2
}
