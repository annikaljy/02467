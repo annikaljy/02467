{
 "cells": [
  {
   "cell_type": "markdown",
   "metadata": {},
   "source": [
    "# Assigment 2\n",
    "### 02467 Computational Social Science Group 6"
   ]
  },
  {
   "cell_type": "markdown",
   "metadata": {},
   "source": [
    "## Part 1: Properties of the real-world network of Computational Social Scientists"
   ]
  },
  {
   "cell_type": "markdown",
   "metadata": {},
   "source": [
    "1. Random Network"
   ]
  },
  {
   "cell_type": "code",
   "execution_count": null,
   "metadata": {},
   "outputs": [],
   "source": [
    "import pandas as pd\n",
    "import networkx as nx\n",
    "import matplotlib.pyplot as plt\n",
    "import ast\n",
    "import numpy as np\n",
    "\n",
    "# 1. Load data\n",
    "papers_df = pd.read_csv(\"papers.csv\")\n",
    "author_df = pd.read_excel(\"author_data.csv\")\n",
    "\n",
    "# 2. Convert stringified lists into actual Python lists\n",
    "papers_df[\"author_ids\"] = papers_df[\"author_ids\"].apply(ast.literal_eval)\n",
    "\n",
    "# 3. Create the real co-authorship network (G_real)\n",
    "G_real = nx.Graph()\n",
    "for row in papers_df.itertuples():\n",
    "    authors = row.author_ids\n",
    "    for i in range(len(authors)):\n",
    "        for j in range(i + 1, len(authors)):\n",
    "            G_real.add_edge(authors[i], authors[j])\n",
    "\n",
    "# 4. Compute real network stats\n",
    "N = G_real.number_of_nodes()\n",
    "L = G_real.number_of_edges()\n",
    "p = L / (N * (N - 1) / 2)\n",
    "avg_k = 2 * L / N\n",
    "\n",
    "print(f\"Real network: N = {N}, L = {L}, p = {p:.6f}, avg_k = = {avg_k:.2f}\")\n",
    "\n",
    "# 5. Visualize the real network \n",
    "degrees = dict(G_real.degree())\n",
    "node_sizes_real = [max(10, degrees[n] * 2) for n in G_real.nodes()]\n",
    "pos_real = nx.spring_layout(G_real, seed=42, iterations=20)\n",
    "\n",
    "plt.figure(figsize=(12, 12))\n",
    "nx.draw_networkx_nodes(G_real, pos_real, node_size=node_sizes_real, node_color='orange', alpha=0.8)\n",
    "nx.draw_networkx_edges(G_real, pos_real, edge_color='gray', width=0.8, alpha=0.3)\n",
    "plt.title(\"Real Co-authorship Network\", fontsize=16)\n",
    "plt.axis('off')\n",
    "plt.tight_layout()\n",
    "plt.show()\n",
    "\n",
    "\n",
    "# 6. Generate random network using np.random.uniform\n",
    "def generate_random_network_with_uniform(N, p, seed=None):\n",
    "    if seed is not None:\n",
    "        np.random.seed(seed)\n",
    "\n",
    "    G = nx.Graph()\n",
    "    G.add_nodes_from(range(N))\n",
    "\n",
    "    for i in range(N):\n",
    "        for j in range(i + 1, N):\n",
    "            if np.random.uniform(0, 1) < p:\n",
    "                G.add_edge(i, j)\n",
    "    return G\n",
    "\n",
    "G_random = generate_random_network_with_uniform(N, p, seed=42)\n",
    "\n",
    "# 7. Visualize the random network\n",
    "degrees_rand = dict(G_random.degree())\n",
    "node_sizes_rand = [max(10, degrees_rand[n] * 2) for n in G_random.nodes()]\n",
    "pos_rand = nx.spring_layout(G_random, seed=42, iterations=20)\n",
    "\n",
    "plt.figure(figsize=(12, 12))\n",
    "nx.draw_networkx_nodes(G_random, pos_rand, node_size=node_sizes_rand, node_color='lightblue', alpha=0.8)\n",
    "nx.draw_networkx_edges(G_random, pos_rand, edge_color='gray', width=0.8, alpha=0.3)\n",
    "plt.title(\"Random Network\", fontsize=16)\n",
    "plt.axis('off')\n",
    "plt.tight_layout()\n",
    "plt.show()"
   ]
  },
  {
   "cell_type": "markdown",
   "metadata": {},
   "source": [
    "### 1. What regime does your random network fall into? Is it above or below the critical threshold? \n",
    "The random network is above the critical threshold. The critical value for a giant component to appear is roughly $p_c = \\frac{1}{N}$, which in our case is about $0.0000658$. Since our $p \\approx 0.000419$, it’s well above that. So we’re in the regime where a large connected component is expected to exist.\n",
    "\n",
    "### 2. According to the textbook, what does the network’s structure resemble in this regime?\n",
    "In this regime, the network typically forms one big connected cluster along with some small isolated nodes. The degree distribution tends to follow a Poisson pattern, meaning most nodes have degrees close to the average, and high-degree nodes are rare. Overall, the structure looks pretty uniform and lacks distinct features.\n",
    "\n",
    "\n",
    "### 3. Based on your visualizations, identify the key differences between the actual and the random networks. Explain whether these differences are consistent with theoretical expectations.\n",
    "The real co-authorship network is much more clustered and uneven—it has hubs, visible communities, and a lot of local structure. The random network, by contrast, looks more uniform and spread out, without clear groupings. These differences line up with what theory predicts: real social networks often show high clustering and modularity, while random networks don’t capture those social patterns."
   ]
  },
  {
   "cell_type": "code",
   "execution_count": null,
   "metadata": {},
   "outputs": [],
   "source": [
    "# 1. Get giant component from real network\n",
    "components_real = list(nx.connected_components(G_real))\n",
    "largest_cc_real = max(components_real, key=len)\n",
    "G_real_giant = G_real.subgraph(largest_cc_real).copy()\n",
    "\n",
    "# 2. Get giant component from random network\n",
    "components_rand = list(nx.connected_components(G_random))\n",
    "largest_cc_rand = max(components_rand, key=len)\n",
    "G_rand_giant = G_random.subgraph(largest_cc_rand).copy()\n",
    "\n",
    "# 3. Calculate average shortest path lengths\n",
    "avg_path_real = nx.average_shortest_path_length(G_real_giant)\n",
    "avg_path_rand = nx.average_shortest_path_length(G_rand_giant)\n",
    "\n",
    "print(f\"Avg shortest path (Real Network): {avg_path_real:.4f}\")\n",
    "print(f\"Avg shortest path (Random Network): {avg_path_rand:.4f}\")"
   ]
  },
  {
   "cell_type": "markdown",
   "metadata": {},
   "source": [
    "### 1. Why do we consider the giant component only?\n",
    "\n",
    "Because average shortest path length is only defined between connected node pairs. If we include isolated components, the metric becomes meaningless (infinite distance). The giant component ensures that all node pairs are reachable.\n",
    "\n",
    "### 2. Why do we consider unweighted edges?\n",
    "\n",
    "The goal is to examine the basic topological structure of the network (small-world phenomenon), not edge weights or strengths. Unweighted paths help us measure pure connectivity.\n",
    "\n",
    "### 3. Does the Computational Social Scientists network exhibit the small-world phenomenon?\n",
    "\n",
    "Likely yes. If the real network shows a similar or slightly higher average shortest path compared to the random graph (with same N, L), and still shows higher clustering (can be computed if needed), it meets the criteria of a small-world network. These networks have short path lengths like random graphs but higher clustering."
   ]
  }
 ],
 "metadata": {
  "kernelspec": {
   "display_name": "Python 3",
   "language": "python",
   "name": "python3"
  },
  "language_info": {
   "codemirror_mode": {
    "name": "ipython",
    "version": 3
   },
   "file_extension": ".py",
   "mimetype": "text/x-python",
   "name": "python",
   "nbconvert_exporter": "python",
   "pygments_lexer": "ipython3",
   "version": "3.12.7"
  }
 },
 "nbformat": 4,
 "nbformat_minor": 2
}
